{
 "cells": [
  {
   "cell_type": "code",
   "execution_count": 3,
   "source": [
    "from lxml import etree"
   ],
   "outputs": [],
   "metadata": {}
  },
  {
   "cell_type": "code",
   "execution_count": 4,
   "source": [
    "parser = etree.XMLParser(load_dtd=True,\n",
    "                         no_network=False)"
   ],
   "outputs": [],
   "metadata": {}
  },
  {
   "cell_type": "code",
   "execution_count": 5,
   "source": [
    "\n",
    "tree = etree.parse(\"/workspaces/jdict-stuff/JMdict_e\", parser=parser)\n"
   ],
   "outputs": [],
   "metadata": {}
  },
  {
   "cell_type": "code",
   "execution_count": 6,
   "source": [
    "root = tree.getroot()"
   ],
   "outputs": [],
   "metadata": {}
  },
  {
   "cell_type": "code",
   "execution_count": 7,
   "source": [
    "root"
   ],
   "outputs": [
    {
     "output_type": "execute_result",
     "data": {
      "text/plain": [
       "<Element JMdict at 0x7f56ad6aad00>"
      ]
     },
     "metadata": {},
     "execution_count": 7
    }
   ],
   "metadata": {}
  },
  {
   "cell_type": "code",
   "execution_count": 8,
   "source": [
    "def parse_kanji_el(entry):\n",
    "    kanjis = []\n",
    "    for kanji in (entry.find(\"k_ele\") or []):\n",
    "        kanjis.append(kanji.find(\"keb\").text)\n",
    "    return kanjis\n",
    "\n",
    "\n",
    "def parse_reading_el(entry):\n",
    "    readings = []\n",
    "    for reading in entry.find(\"r_ele\"):\n",
    "        _reb = reading.find(\"reb\")\n",
    "        if _reb is not None:\n",
    "            readings.append(_reb.text)\n",
    "        else:\n",
    "            continue\n",
    "    return readings\n"
   ],
   "outputs": [],
   "metadata": {}
  },
  {
   "cell_type": "code",
   "execution_count": 9,
   "source": [
    "def parse_senses(entry):\n",
    "    senses = []\n",
    "    for sense in entry.find(\"sense\"):\n",
    "        sense_dict = {}\n",
    "        for info in sense.find(\"stagk\"):\n",
    "            sense_dict[\"stagk\"] = info.text\n",
    "        for info in sense.find(\"stagr\"):\n",
    "            sense_dict[\"stagr\"] = info.text\n",
    "        for info in sense.find(\"gloss\"):\n",
    "            sense_dict[\"gloss\"] = info.text\n",
    "        for info in sense.find(\"xref\"):\n",
    "            sense_dict[\"xref\"] = info.text\n",
    "        senses.append(sense_dict)\n",
    "    return senses"
   ],
   "outputs": [],
   "metadata": {}
  },
  {
   "cell_type": "code",
   "execution_count": 12,
   "source": [
    "def process_entry(entry):\n",
    "    entry_dict = {}\n",
    "    \n",
    "    entry_dict[\"kanjis\"] = entry.xpath(\"k_ele/keb/text()\")\n",
    "        \n",
    "    entry_dict[\"readings\"] = entry.xpath(\"r_ele/reb/text()\")\n",
    "        \n",
    "    # entry_dict[\"senses\"] = parse_senses(entry)\n",
    "    \n",
    "    return entry_dict\n"
   ],
   "outputs": [],
   "metadata": {}
  },
  {
   "cell_type": "code",
   "execution_count": 13,
   "source": [
    "process_entry(root[0])"
   ],
   "outputs": [
    {
     "output_type": "execute_result",
     "data": {
      "text/plain": [
       "{'kanjis': [], 'readings': ['ヽ']}"
      ]
     },
     "metadata": {},
     "execution_count": 13
    }
   ],
   "metadata": {}
  },
  {
   "cell_type": "code",
   "execution_count": null,
   "source": [
    "etree.dump(root[0])"
   ],
   "outputs": [
    {
     "output_type": "stream",
     "name": "stdout",
     "text": [
      "<entry>\n",
      "<ent_seq>1000000</ent_seq>\n",
      "<r_ele>\n",
      "<reb>ヽ</reb>\n",
      "</r_ele>\n",
      "<sense>\n",
      "<pos>unclassified</pos>\n",
      "<xref>一の字点</xref>\n",
      "<gloss g_type=\"expl\">repetition mark in katakana</gloss>\n",
      "</sense>\n",
      "</entry>\n",
      "\n"
     ]
    }
   ],
   "metadata": {}
  },
  {
   "cell_type": "code",
   "execution_count": null,
   "source": [],
   "outputs": [],
   "metadata": {}
  }
 ],
 "metadata": {
  "orig_nbformat": 4,
  "language_info": {
   "name": "python",
   "version": "3.9.5",
   "mimetype": "text/x-python",
   "codemirror_mode": {
    "name": "ipython",
    "version": 3
   },
   "pygments_lexer": "ipython3",
   "nbconvert_exporter": "python",
   "file_extension": ".py"
  },
  "kernelspec": {
   "name": "python3",
   "display_name": "Python 3.9.5 64-bit ('base': conda)"
  },
  "interpreter": {
   "hash": "98b0a9b7b4eaaa670588a142fd0a9b87eaafe866f1db4228be72b4211d12040f"
  }
 },
 "nbformat": 4,
 "nbformat_minor": 2
}