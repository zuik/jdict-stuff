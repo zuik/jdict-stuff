{
 "cells": [
  {
   "cell_type": "code",
   "execution_count": 1,
   "source": [
    "from lxml import etree"
   ],
   "outputs": [],
   "metadata": {}
  },
  {
   "cell_type": "code",
   "execution_count": 2,
   "source": [
    "parser = etree.XMLParser(load_dtd=True,\n",
    "                         no_network=False)"
   ],
   "outputs": [],
   "metadata": {}
  },
  {
   "cell_type": "code",
   "execution_count": 3,
   "source": [
    "\n",
    "tree = etree.parse(\"../../JMdict\", parser=parser)\n"
   ],
   "outputs": [],
   "metadata": {}
  },
  {
   "cell_type": "code",
   "execution_count": 4,
   "source": [
    "root = tree.getroot()"
   ],
   "outputs": [],
   "metadata": {}
  },
  {
   "cell_type": "code",
   "execution_count": 6,
   "source": [
    "etree.dump(root[0])"
   ],
   "outputs": [
    {
     "output_type": "stream",
     "name": "stdout",
     "text": [
      "<entry>\n",
      "<ent_seq>1000000</ent_seq>\n",
      "<r_ele>\n",
      "<reb>ヽ</reb>\n",
      "</r_ele>\n",
      "<sense>\n",
      "<pos>unclassified</pos>\n",
      "<xref>一の字点</xref>\n",
      "<gloss g_type=\"expl\">repetition mark in katakana</gloss>\n",
      "</sense>\n",
      "<sense>\n",
      "<gloss xml:lang=\"dut\">hitotsuten 一つ点: teken dat herhaling van het voorafgaande katakana-schriftteken aangeeft</gloss>\n",
      "</sense>\n",
      "</entry>\n",
      "\n"
     ]
    }
   ],
   "metadata": {}
  },
  {
   "cell_type": "code",
   "execution_count": null,
   "source": [],
   "outputs": [],
   "metadata": {}
  }
 ],
 "metadata": {
  "orig_nbformat": 4,
  "language_info": {
   "name": "python",
   "version": "3.8.8",
   "mimetype": "text/x-python",
   "codemirror_mode": {
    "name": "ipython",
    "version": 3
   },
   "pygments_lexer": "ipython3",
   "nbconvert_exporter": "python",
   "file_extension": ".py"
  },
  "kernelspec": {
   "name": "python3",
   "display_name": "Python 3.8.8 64-bit ('gwr': conda)"
  },
  "interpreter": {
   "hash": "18037a7365f82becc458e6c83f15ccc79bdb676e261deee6abb6fc4b59e49512"
  }
 },
 "nbformat": 4,
 "nbformat_minor": 2
}