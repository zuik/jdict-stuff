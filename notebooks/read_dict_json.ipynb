{
 "cells": [
  {
   "cell_type": "markdown",
   "source": [
    "# Read JMDict as JSON"
   ],
   "metadata": {}
  },
  {
   "cell_type": "markdown",
   "source": [
    "## Parse JMDict file to JSON\n",
    "\n",
    "- We need the source JMDict file\n",
    "- Can either install [the parser](https://github.com/tkshnwesper/JMdict-Parser) as global or local.\n",
    "    - Just clone the repo\n",
    "    - `npm install`\n",
    "    - `npm run build`.\n",
    "    - The script will be in `./lib/index.js`.\n",
    "- Parse the JMDict file to JSON: `node ./lib/index.js ../../JMdict`"
   ],
   "metadata": {}
  },
  {
   "cell_type": "markdown",
   "source": [
    "## Read JSON"
   ],
   "metadata": {}
  },
  {
   "cell_type": "code",
   "execution_count": 5,
   "source": [
    "import json\n",
    "from pathlib import Path"
   ],
   "outputs": [],
   "metadata": {}
  },
  {
   "cell_type": "code",
   "execution_count": 8,
   "source": [
    "data = json.loads(Path('../../JMdict.json').read_bytes())"
   ],
   "outputs": [],
   "metadata": {}
  },
  {
   "cell_type": "code",
   "execution_count": 10,
   "source": [
    "data[0]"
   ],
   "outputs": [
    {
     "output_type": "execute_result",
     "data": {
      "text/plain": [
       "{'ent_seq': ['1000000'],\n",
       " 'r_ele': [{'reb': ['ヽ']}],\n",
       " 'sense': [{'pos': ['&unc;'],\n",
       "   'xref': ['一の字点'],\n",
       "   'gloss': [{'_': 'repetition mark in katakana', '$': {'g_type': 'expl'}}]},\n",
       "  {'gloss': [{'_': 'hitotsuten 一つ点: teken dat herhaling van het voorafgaande katakana-schriftteken aangeeft',\n",
       "     '$': {'xml:lang': 'dut'}}]}]}"
      ]
     },
     "metadata": {},
     "execution_count": 10
    }
   ],
   "metadata": {}
  },
  {
   "cell_type": "code",
   "execution_count": null,
   "source": [],
   "outputs": [],
   "metadata": {}
  }
 ],
 "metadata": {
  "orig_nbformat": 4,
  "language_info": {
   "name": "python",
   "version": "3.8.8",
   "mimetype": "text/x-python",
   "codemirror_mode": {
    "name": "ipython",
    "version": 3
   },
   "pygments_lexer": "ipython3",
   "nbconvert_exporter": "python",
   "file_extension": ".py"
  },
  "kernelspec": {
   "name": "python3",
   "display_name": "Python 3.8.8 64-bit ('gwr': conda)"
  },
  "interpreter": {
   "hash": "18037a7365f82becc458e6c83f15ccc79bdb676e261deee6abb6fc4b59e49512"
  }
 },
 "nbformat": 4,
 "nbformat_minor": 2
}